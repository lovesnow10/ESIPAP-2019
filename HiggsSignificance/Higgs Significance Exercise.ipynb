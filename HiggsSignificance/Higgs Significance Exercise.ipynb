{
 "cells": [
  {
   "cell_type": "markdown",
   "metadata": {},
   "source": [
    "# Higgs significance exercise"
   ]
  },
  {
   "cell_type": "markdown",
   "metadata": {},
   "source": [
    "## 1. $H\\to\\gamma\\gamma$ invariant mass spectrum toy simulation\n",
    "\n",
    "We begin by defining a function that generetase pseudo-data, returning an histogram mimicking the observed diphoton invariant mass spectrum for a given luminosity. The function assumes an exponential functional form for the continuous background cross section:\n",
    "\n",
    "$$\\frac{d\\sigma_B}{d m_{\\gamma\\gamma}} = C e^{-b m_{\\gamma\\gamma}}$$\n",
    "\n",
    "with $C \\simeq 1145\\,\\text{fb/GeV}$ and $b \\simeq 0.023 \\,\\text{GeV}^{-1}$. These parameter are hardcoded in the function, but you can experiment to change them. \n",
    "\n",
    "The Higgs effective cross section is assumed to be:\n",
    "\n",
    "$$\\sigma_S(m_H = 125 \\text{GeV}) \\cdot BR \\cdot \\varepsilon \\simeq 10 \\text{fb}$$\n",
    "\n",
    "The $H\\to\\gamma\\gamma$ peak is described by a Gaussian centered at $m_H$, with a width $\\sigma_{\\gamma\\gamma}$ dominated by the detector diphoton invariant mass resolution. The shape parameter for the Higgs peak are given as parameters to the function. \n",
    "\n",
    "The number of signal and background events for a given integrated luminosity are computed as results of Poisson discribution starting from the expected average number of events, obtained from the respective cross-sections:\n",
    "\n",
    "$$\\langle N_{S,B} \\rangle = \\mathcal{L} \\cdot \\sigma_{S,B}$$\n",
    "\n",
    "$$N_{S,B} = \\text{Poisson}(\\langle N_{S,B} \\rangle)$$"
   ]
  },
  {
   "cell_type": "code",
   "execution_count": 1,
   "metadata": {},
   "outputs": [
    {
     "name": "stdout",
     "output_type": "stream",
     "text": [
      "Welcome to JupyROOT 6.14/06\n"
     ]
    }
   ],
   "source": [
    "import ROOT\n",
    "import math"
   ]
  },
  {
   "cell_type": "code",
   "execution_count": 2,
   "metadata": {},
   "outputs": [],
   "source": [
    "def DataHistogram(m_higgs,sigma_m,lumi,\n",
    "                  mMin = 100.,\n",
    "                  mMax = 150.,\n",
    "                  nCha = 50):\n",
    "    \"\"\"\n",
    "    Function to generate a random (pseudo) diphoton invariant-mass spectrum\n",
    "    Returns a TH1F\n",
    "    \"\"\"\n",
    "    h_mgg = ROOT.TH1F(\"h_mgg\",\"\",nCha,mMin,mMax)\n",
    "\n",
    "    # background cross section\n",
    "    # dsigma/dm_gammagamma = 1145. fb/GeV exp(-0.023 GeV-1 * m_gammagamma)\n",
    "    background = ROOT.TF1(\"background\",\"1145.*exp(-0.023*x)\",mMin,mMax)\n",
    "\n",
    "    # total background cross section\n",
    "    sigma_bck = background.Integral(mMin,mMax)\n",
    "\n",
    "    # Higgs cross section x BR x detector efficiency ~ 10 fb \n",
    "    # Gaussian around Higgs mass, with width dependent on gamma-gamma invariant mass resolution\n",
    "    higgs = ROOT.TF1(\"higgs\",\"10.*exp(-0.5*(x-[0])^2/[1]^2)/(sqrt(6.28)*[1])\",mMin,mMax)\n",
    "    higgs.SetParameter(0,m_higgs) # Higgs mass \n",
    "    higgs.SetParameter(1,sigma_m) # invariant mass width\n",
    "\n",
    "    # total higgs cross section\n",
    "    sigma_higgs=higgs.Integral(mMin,mMax);\n",
    "\n",
    "    # Random number generator\n",
    "    generator = ROOT.TRandom(0)\n",
    "\n",
    "    # Higgs spectrum generation\n",
    "    # Number of events is given by Poisson distribution around expected value\n",
    "    # Invariant mass spectrum is obtained from differential cross section\n",
    "    nHiggs = generator.Poisson(lumi*sigma_higgs)\n",
    "    for i in range(nHiggs):\n",
    "        h_mgg.Fill(higgs.GetRandom())\n",
    "\n",
    "    # Background spectrum generation\n",
    "    # Number of events is given by Poisson distribution around expected value\n",
    "    # Invariant mass spectrum is obtained from differential cross section\n",
    "    nBck = generator.Poisson(lumi*sigma_bck)\n",
    "    for i in range(nBck):\n",
    "        h_mgg.Fill(background.GetRandom())\n",
    "\n",
    "    h_mgg.GetXaxis().SetTitle(\"m_{#gamma#gamma} [GeV]\")\n",
    "    h_mgg.GetYaxis().SetTitle(\"Events / 1 GeV\")\n",
    "    return h_mgg"
   ]
  },
  {
   "cell_type": "markdown",
   "metadata": {},
   "source": [
    "### Let's generate some pseudo-data and have a look at it\n",
    "\n",
    "Try to change the parameters for the luminosity and see how the spectrum shape change with more or less data...\n",
    "\n",
    "Can you see the Higgs peak by eye?"
   ]
  },
  {
   "cell_type": "code",
   "execution_count": 3,
   "metadata": {},
   "outputs": [],
   "source": [
    "L   = 30.  # integrated luminosity fb-1\n",
    "m_H = 125. # GeV\n",
    "s_m = 1.4  # GeV\n",
    "\n",
    "mgg = DataHistogram(m_H,s_m,L)"
   ]
  },
  {
   "cell_type": "code",
   "execution_count": 4,
   "metadata": {},
   "outputs": [
    {
     "data": {
      "image/png": "[encoded data removed]",
      "text/plain": [
       "<IPython.core.display.Image object>"
      ]
     },
     "metadata": {},
     "output_type": "display_data"
    }
   ],
   "source": [
    "c = ROOT.TCanvas(\"c\",\"\",50,50,800,600);\n",
    "c.cd(1).SetLeftMargin(0.15)\n",
    "\n",
    "mgg.SetStats(0)\n",
    "mgg.SetMarkerStyle(20)\n",
    "mgg.SetLineColor(1)\n",
    "mgg.Draw(\"E\")\n",
    "\n",
    "label = ROOT.TLatex()\n",
    "label.SetTextSize(0.05)\n",
    "label.SetTextAlign(12)\n",
    "label.DrawLatexNDC(0.6,0.8,\"#int L dt = \"+str(int(L))+\" fb^{-1}\")\n",
    "                   \n",
    "c.Draw()"
   ]
  },
  {
   "cell_type": "markdown",
   "metadata": {},
   "source": [
    "## 2. Diphoton invariant mass fit\n",
    "\n",
    "We want to fit out generated pseudo-data with a function with two component to extract the number of signal events from the spectrum. This emulates (in a simplified way!) what the LHC experiments do to look for a $H\\to\\gamma\\gamma$ signal. We will use a function defined as the sum of an exponentian and a Gaussian components:\n",
    "\n",
    "$$ \\frac{dN}{d m_{\\gamma\\gamma}} = p_0 e^{-p1 m{_\\gamma\\gamma}} + p_2 \\frac{1}{\\sqrt{2 \\pi p_4}} \n",
    "e^{ -\\frac{(m_{\\gamma\\gamma} - p_3)^2}{p_4^2}}$$\n",
    "\n",
    "The parameter $p_0$ measures the observed total number of background events $N_B^{\\text{obs}}$, the parameter $p_0$ the observed number of signal events $N_S^{\\text{obs}}$."
   ]
  },
  {
   "cell_type": "code",
   "execution_count": 5,
   "metadata": {},
   "outputs": [],
   "source": [
    "def massSB(x,p):\n",
    "    \"\"\"\n",
    "    Function to perfom a simple S+B fit to the gamma-gamma invariant mass spectrum\n",
    "    Signal: gaussian\n",
    "    background: exponential\n",
    "    x[0] = Invariant mass\n",
    "    p[0],p[1] = Background  p[0]*exp(-p[1]*m_gammagamma)\n",
    "    p[2] = Gaussian normalisation\n",
    "    p[3] = Higgs mass\n",
    "    p[4] = Mass resolution\n",
    "    \"\"\"\n",
    "    b = p[0]*math.exp(-p[1]*x[0])\n",
    "    s = p[2]*(1./(math.sqrt(2.*math.pi*p[4]))*math.exp(-0.5*(x[0]-p[3])*(x[0]-p[3])/(p[4]*p[4])))\n",
    "    return b+s\n",
    "\n",
    "massFit = ROOT.TF1('massFit',massSB,100.,200.,5)"
   ]
  },
  {
   "cell_type": "code",
   "execution_count": 6,
   "metadata": {},
   "outputs": [
    {
     "name": "stdout",
     "output_type": "stream",
     "text": [
      " FCN=49.1193 FROM MIGRAD    STATUS=CONVERGED     211 CALLS         212 TOTAL\n",
      "                     EDM=1.13894e-07    STRATEGY= 1  ERROR MATRIX UNCERTAINTY   2.0 per cent\n",
      "  EXT PARAMETER                                   STEP         FIRST   \n",
      "  NO.   NAME      VALUE            ERROR          SIZE      DERIVATIVE \n",
      "   1  p0           3.50942e+04   9.57594e+02   3.83721e+00  -4.15956e-06\n",
      "   2  p1           2.31760e-02   2.26375e-04   8.31952e-07   1.86750e+01\n",
      "   3  p2           2.80223e+02   8.86259e+01   9.34240e-05  -1.58978e-02\n",
      "   4  p3           1.25600e+02   6.89227e-01   4.50513e-04   4.69273e-03\n",
      "   5  p4           1.40000e+00     fixed    \n"
     ]
    },
    {
     "data": {
      "image/png": "[encoded data removed]",
      "text/plain": [
       "<IPython.core.display.Image object>"
      ]
     },
     "metadata": {},
     "output_type": "display_data"
    }
   ],
   "source": [
    "# Now let's fit the histogram. \n",
    "# Lets' start by setting the initial values for the fit parameters \n",
    "\n",
    "massFit.SetParameter(0,1.E+5) # Background\n",
    "massFit.SetParameter(1,0.023); # Background\n",
    "massFit.SetParameter(2,500.);  # Gaussian normalization\n",
    "massFit.SetParameter(3,m_H);   # Higgs mass\n",
    "massFit.SetParameter(4,s_m);   # Diphoton mass resolution\n",
    " \n",
    "#     Especially at low statistics, sometimes is can happen than mass\n",
    "#     measured value diverges or that Higgs signal fraction converge\n",
    "#     toward un-physical limits. We might then need to impose a range\n",
    "#     for these parameters.\n",
    "\n",
    "massFit.SetParLimits(2,0.,1.E+5)\n",
    "massFit.SetParLimits(3,m_H-10.,m_H+10.)\n",
    "massFit.SetParLimits(4,s_m*0.5,s_m*2.)\n",
    "\n",
    "# Mass resolution should come from independent measurement! Why? \n",
    "massFit.FixParameter(4,s_m)\n",
    "\n",
    "massFit.SetLineStyle(1)\n",
    "massFit.SetLineColor(2)\n",
    "\n",
    "mgg.Fit(massFit)\n",
    "\n",
    "# Draw with full fit\n",
    "cfit = ROOT.TCanvas(\"cfit\",\"\",10,10,800,600);\n",
    "mgg.Draw(\"PE\") # Histogram\n",
    "massFit.Draw(\"same\") # Fit result (S+B)\n",
    "massFit.SetParameter(2,0.); massFit.SetLineStyle(2); massFit.Draw(\"same\") # Fit result, B component only\n",
    "\n",
    "label.SetTextSize(0.05)\n",
    "label.SetTextAlign(12)\n",
    "label.DrawLatexNDC(0.6,0.8,\"#int L dt = \"+str(int(L))+\" fb^{-1}\")\n",
    "\n",
    "cfit.Draw()"
   ]
  },
  {
   "cell_type": "markdown",
   "metadata": {},
   "source": [
    "## 3. Role of statistical fluctuations\n",
    "\n",
    "Let's now run several \"toy\" experiments to evaluate the impact of statistical fluctuations for a given integrated luminosity"
   ]
  },
  {
   "cell_type": "code",
   "execution_count": 9,
   "metadata": {},
   "outputs": [],
   "source": [
    "ntoys  = 100  # number of toy experiments\n",
    "L      = 10.  # integrated luminosity fb-1\n",
    "m_H    = 125. # GeV\n",
    "s_m    = 1.4  # GeV"
   ]
  },
  {
   "cell_type": "code",
   "execution_count": 10,
   "metadata": {},
   "outputs": [
    {
     "name": "stdout",
     "output_type": "stream",
     "text": [
      "*** Toy # 50 / 100\n"
     ]
    },
    {
     "name": "stderr",
     "output_type": "stream",
     "text": [
      "Warning in <TROOT::Append>: Replacing existing TH1: h_norm (Potential memory leak).\n",
      "Warning in <TROOT::Append>: Replacing existing TH1: h_mH (Potential memory leak).\n",
      "Warning in <TROOT::Append>: Replacing existing TH1: h_mgg (Potential memory leak).\n",
      "Warning in <TROOT::Append>: Replacing existing TH1: h_mgg (Potential memory leak).\n",
      "Warning in <TROOT::Append>: Replacing existing TH1: h_mgg (Potential memory leak).\n",
      "Warning in <TROOT::Append>: Replacing existing TH1: h_mgg (Potential memory leak).\n",
      "Warning in <TROOT::Append>: Replacing existing TH1: h_mgg (Potential memory leak).\n",
      "Warning in <TROOT::Append>: Replacing existing TH1: h_mgg (Potential memory leak).\n",
      "Warning in <TROOT::Append>: Replacing existing TH1: h_mgg (Potential memory leak).\n",
      "Warning in <TROOT::Append>: Replacing existing TH1: h_mgg (Potential memory leak).\n",
      "Warning in <TROOT::Append>: Replacing existing TH1: h_mgg (Potential memory leak).\n",
      "Warning in <TROOT::Append>: Replacing existing TH1: h_mgg (Potential memory leak).\n",
      "Warning in <TROOT::Append>: Replacing existing TH1: h_mgg (Potential memory leak).\n",
      "Warning in <TROOT::Append>: Replacing existing TH1: h_mgg (Potential memory leak).\n",
      "Warning in <TROOT::Append>: Replacing existing TH1: h_mgg (Potential memory leak).\n",
      "Warning in <TROOT::Append>: Replacing existing TH1: h_mgg (Potential memory leak).\n",
      "Warning in <TROOT::Append>: Replacing existing TH1: h_mgg (Potential memory leak).\n",
      "Warning in <TROOT::Append>: Replacing existing TH1: h_mgg (Potential memory leak).\n",
      "Warning in <TROOT::Append>: Replacing existing TH1: h_mgg (Potential memory leak).\n",
      "Warning in <TROOT::Append>: Replacing existing TH1: h_mgg (Potential memory leak).\n",
      "Warning in <TROOT::Append>: Replacing existing TH1: h_mgg (Potential memory leak).\n",
      "Warning in <TROOT::Append>: Replacing existing TH1: h_mgg (Potential memory leak).\n",
      "Warning in <TROOT::Append>: Replacing existing TH1: h_mgg (Potential memory leak).\n",
      "Warning in <TROOT::Append>: Replacing existing TH1: h_mgg (Potential memory leak).\n",
      "Warning in <TROOT::Append>: Replacing existing TH1: h_mgg (Potential memory leak).\n",
      "Warning in <TROOT::Append>: Replacing existing TH1: h_mgg (Potential memory leak).\n",
      "Warning in <TROOT::Append>: Replacing existing TH1: h_mgg (Potential memory leak).\n",
      "Warning in <TROOT::Append>: Replacing existing TH1: h_mgg (Potential memory leak).\n",
      "Warning in <TROOT::Append>: Replacing existing TH1: h_mgg (Potential memory leak).\n",
      "Warning in <TROOT::Append>: Replacing existing TH1: h_mgg (Potential memory leak).\n",
      "Warning in <TROOT::Append>: Replacing existing TH1: h_mgg (Potential memory leak).\n",
      "Warning in <TROOT::Append>: Replacing existing TH1: h_mgg (Potential memory leak).\n",
      "Warning in <TROOT::Append>: Replacing existing TH1: h_mgg (Potential memory leak).\n",
      "Warning in <TROOT::Append>: Replacing existing TH1: h_mgg (Potential memory leak).\n",
      "Warning in <TROOT::Append>: Replacing existing TH1: h_mgg (Potential memory leak).\n",
      "Warning in <TROOT::Append>: Replacing existing TH1: h_mgg (Potential memory leak).\n",
      "Warning in <TROOT::Append>: Replacing existing TH1: h_mgg (Potential memory leak).\n",
      "Warning in <TROOT::Append>: Replacing existing TH1: h_mgg (Potential memory leak).\n",
      "Warning in <TROOT::Append>: Replacing existing TH1: h_mgg (Potential memory leak).\n",
      "Warning in <TROOT::Append>: Replacing existing TH1: h_mgg (Potential memory leak).\n",
      "Warning in <TROOT::Append>: Replacing existing TH1: h_mgg (Potential memory leak).\n",
      "Warning in <TROOT::Append>: Replacing existing TH1: h_mgg (Potential memory leak).\n",
      "Warning in <TROOT::Append>: Replacing existing TH1: h_mgg (Potential memory leak).\n",
      "Warning in <TROOT::Append>: Replacing existing TH1: h_mgg (Potential memory leak).\n",
      "Warning in <TROOT::Append>: Replacing existing TH1: h_mgg (Potential memory leak).\n",
      "Warning in <TROOT::Append>: Replacing existing TH1: h_mgg (Potential memory leak).\n",
      "Warning in <TROOT::Append>: Replacing existing TH1: h_mgg (Potential memory leak).\n",
      "Warning in <TROOT::Append>: Replacing existing TH1: h_mgg (Potential memory leak).\n",
      "Warning in <TROOT::Append>: Replacing existing TH1: h_mgg (Potential memory leak).\n",
      "Warning in <TROOT::Append>: Replacing existing TH1: h_mgg (Potential memory leak).\n",
      "Warning in <TROOT::Append>: Replacing existing TH1: h_mgg (Potential memory leak).\n",
      "Warning in <TROOT::Append>: Replacing existing TH1: h_mgg (Potential memory leak).\n",
      "Warning in <TROOT::Append>: Replacing existing TH1: h_mgg (Potential memory leak).\n",
      "Warning in <TROOT::Append>: Replacing existing TH1: h_mgg (Potential memory leak).\n",
      "Warning in <TROOT::Append>: Replacing existing TH1: h_mgg (Potential memory leak).\n",
      "Warning in <TROOT::Append>: Replacing existing TH1: h_mgg (Potential memory leak).\n",
      "Warning in <TROOT::Append>: Replacing existing TH1: h_mgg (Potential memory leak).\n",
      "Warning in <TROOT::Append>: Replacing existing TH1: h_mgg (Potential memory leak).\n",
      "Warning in <TROOT::Append>: Replacing existing TH1: h_mgg (Potential memory leak).\n",
      "Warning in <TROOT::Append>: Replacing existing TH1: h_mgg (Potential memory leak).\n",
      "Warning in <TROOT::Append>: Replacing existing TH1: h_mgg (Potential memory leak).\n",
      "Warning in <TROOT::Append>: Replacing existing TH1: h_mgg (Potential memory leak).\n",
      "Warning in <TROOT::Append>: Replacing existing TH1: h_mgg (Potential memory leak).\n",
      "Warning in <TROOT::Append>: Replacing existing TH1: h_mgg (Potential memory leak).\n",
      "Warning in <TROOT::Append>: Replacing existing TH1: h_mgg (Potential memory leak).\n",
      "Warning in <TROOT::Append>: Replacing existing TH1: h_mgg (Potential memory leak).\n",
      "Warning in <TROOT::Append>: Replacing existing TH1: h_mgg (Potential memory leak).\n",
      "Warning in <TROOT::Append>: Replacing existing TH1: h_mgg (Potential memory leak).\n",
      "Warning in <TROOT::Append>: Replacing existing TH1: h_mgg (Potential memory leak).\n",
      "Warning in <TROOT::Append>: Replacing existing TH1: h_mgg (Potential memory leak).\n",
      "Warning in <TROOT::Append>: Replacing existing TH1: h_mgg (Potential memory leak).\n",
      "Warning in <TROOT::Append>: Replacing existing TH1: h_mgg (Potential memory leak).\n",
      "Warning in <TROOT::Append>: Replacing existing TH1: h_mgg (Potential memory leak).\n",
      "Warning in <TROOT::Append>: Replacing existing TH1: h_mgg (Potential memory leak).\n",
      "Warning in <TROOT::Append>: Replacing existing TH1: h_mgg (Potential memory leak).\n",
      "Warning in <TROOT::Append>: Replacing existing TH1: h_mgg (Potential memory leak).\n",
      "Warning in <TROOT::Append>: Replacing existing TH1: h_mgg (Potential memory leak).\n",
      "Warning in <TROOT::Append>: Replacing existing TH1: h_mgg (Potential memory leak).\n",
      "Warning in <TROOT::Append>: Replacing existing TH1: h_mgg (Potential memory leak).\n",
      "Warning in <TROOT::Append>: Replacing existing TH1: h_mgg (Potential memory leak).\n",
      "Warning in <TROOT::Append>: Replacing existing TH1: h_mgg (Potential memory leak).\n",
      "Warning in <TROOT::Append>: Replacing existing TH1: h_mgg (Potential memory leak).\n",
      "Warning in <TROOT::Append>: Replacing existing TH1: h_mgg (Potential memory leak).\n",
      "Warning in <TROOT::Append>: Replacing existing TH1: h_mgg (Potential memory leak).\n",
      "Warning in <TROOT::Append>: Replacing existing TH1: h_mgg (Potential memory leak).\n",
      "Warning in <TROOT::Append>: Replacing existing TH1: h_mgg (Potential memory leak).\n",
      "Warning in <TROOT::Append>: Replacing existing TH1: h_mgg (Potential memory leak).\n",
      "Warning in <TROOT::Append>: Replacing existing TH1: h_mgg (Potential memory leak).\n",
      "Warning in <TROOT::Append>: Replacing existing TH1: h_mgg (Potential memory leak).\n",
      "Warning in <TROOT::Append>: Replacing existing TH1: h_mgg (Potential memory leak).\n",
      "Warning in <TROOT::Append>: Replacing existing TH1: h_mgg (Potential memory leak).\n",
      "Warning in <TROOT::Append>: Replacing existing TH1: h_mgg (Potential memory leak).\n",
      "Warning in <TROOT::Append>: Replacing existing TH1: h_mgg (Potential memory leak).\n",
      "Warning in <TROOT::Append>: Replacing existing TH1: h_mgg (Potential memory leak).\n",
      "Warning in <TROOT::Append>: Replacing existing TH1: h_mgg (Potential memory leak).\n",
      "Warning in <TROOT::Append>: Replacing existing TH1: h_mgg (Potential memory leak).\n",
      "Warning in <TROOT::Append>: Replacing existing TH1: h_mgg (Potential memory leak).\n",
      "Warning in <TROOT::Append>: Replacing existing TH1: h_mgg (Potential memory leak).\n",
      "Warning in <TROOT::Append>: Replacing existing TH1: h_mgg (Potential memory leak).\n",
      "Warning in <TROOT::Append>: Replacing existing TH1: h_mgg (Potential memory leak).\n",
      "Warning in <TROOT::Append>: Replacing existing TH1: h_mgg (Potential memory leak).\n",
      "Warning in <TROOT::Append>: Replacing existing TH1: h_mgg (Potential memory leak).\n"
     ]
    }
   ],
   "source": [
    "# histograms to collect the results from the toy experiments\n",
    "h_norm = ROOT.TH1F(\"h_norm\",\"\" , 10, 0.,  1000.);\n",
    "h_mH   = ROOT.TH1F(\"h_mH\"  ,\"\" , 40, 115., 135.);\n",
    "\n",
    "# loop on toys\n",
    "for i in range(ntoys):\n",
    "    \n",
    "    if ( i>0 and i%50==0 ):\n",
    "        print (\"*** Toy # \"+str(i)+\" / \"+ str(ntoys))\n",
    "    \n",
    "    # for each toy experiment we generate a pseudo-data histogram, as we did before...\n",
    "    mgg = DataHistogram(m_H,s_m,L)\n",
    "\n",
    "    # ... then we fit it\n",
    "    massFit.SetParameter(0,L*1000.) \n",
    "    massFit.SetParameter(1,0.023)  \n",
    "    massFit.SetParameter(2,L*10.)   \n",
    "    massFit.SetParameter(3,m_H)\n",
    "    massFit.FixParameter(4,s_m) \n",
    "    \n",
    "    # set limits to some parameter to stabilize fits to weird spectra, especially at low statistics\n",
    "    #massFit.SetParLimits(3,m_H-10.,m_H+10.) # force interval aroun Higgs mass for signal peak position\n",
    "    massFit.SetParLimits(0,0.,L*10000000.); # force background normalization to be positive\n",
    "    \n",
    "    mgg.Fit(massFit,\"Q\")\n",
    "    \n",
    "    # ... and we fill the histograms with the fit results\n",
    "    h_norm.Fill(massFit.GetParameter(2))\n",
    "    h_mH.Fill(massFit.GetParameter(3))"
   ]
  },
  {
   "cell_type": "code",
   "execution_count": 11,
   "metadata": {},
   "outputs": [
    {
     "data": {
      "image/png": "[encoded data removed]",
      "text/plain": [
       "<IPython.core.display.Image object>"
      ]
     },
     "metadata": {},
     "output_type": "display_data"
    }
   ],
   "source": [
    "toyplots = ROOT.TCanvas(\"toyplots\",\"\",800,800)\n",
    "toyplots.Divide(1,2)\n",
    "\n",
    "toyplots.cd(1)\n",
    "h_norm.SetStats(0)\n",
    "h_norm.SetLineColor(2); h_norm.SetLineWidth(2)\n",
    "h_norm.GetXaxis().SetTitle(\"Normalisation [a.u.]\")\n",
    "h_norm.GetYaxis().SetTitle(\"Experiments\");\n",
    "h_norm.Draw()\n",
    "\n",
    "label.SetTextSize(0.06);\n",
    "label.SetTextAlign(12);\n",
    "label.DrawLatexNDC(0.7,0.8,\"#int L dt = \"+str(int(L))+\" fb^{-1}\")\n",
    "\n",
    "toyplots.cd(2);\n",
    "h_mH.SetStats(0)\n",
    "h_mH.SetLineColor(2), h_mH.SetLineWidth(2)\n",
    "h_mH.GetXaxis().SetTitle(\"m_{H} [GeV]\");\n",
    "h_mH.GetYaxis().SetTitle(\"Esperiments\");\n",
    "h_mH.Draw();\n",
    "\n",
    "toyplots.Draw()"
   ]
  },
  {
   "cell_type": "markdown",
   "metadata": {},
   "source": [
    "# 4. Significance vs. Luminosity\n",
    "\n",
    "We want now to study the evolution of the expected signal significance as a function of the amuont of collected data. We have (approximatively) defined the signal significance as:\n",
    "\n",
    "$$ Z \\sim \\frac{N_S}{\\sqrt{N_B}}$$\n",
    "\n",
    "with\n",
    "\n",
    "$$p_0 = 1 - \\text{Erf}\\left( \\frac{N_S}{\\sqrt{N_B}} \\right) $$\n",
    "\n",
    "In thi exercise we will use a even more approximate definition, using:\n",
    "\n",
    "$$ Z = \\frac{N_S}{\\sigma_{N_S}} = \\frac{p_2}{\\sigma_{p_2}} $$\n",
    "\n",
    "For each luminosity point we will run a certain number of toy experiments, averaging the observed significances to smooth out the fluctuations.\n",
    "\n",
    "Try to see what happens if you set the detector resolution be larger or smaller than the default value: how much data do you need to reach 5 $\\sigma$?"
   ]
  },
  {
   "cell_type": "code",
   "execution_count": 12,
   "metadata": {},
   "outputs": [],
   "source": [
    "ntoys  = 100  # number of toy experiments\n",
    "m_H    = 125. # GeV\n",
    "s_m    = 1.4  # GeV\n",
    "\n",
    "nL = 5\n",
    "L0 = 30.\n",
    "dL = 20.\n",
    "\n",
    "sig_vs_L = ROOT.TGraph(nL)\n",
    "sig_vs_L.SetTitle(\"\")"
   ]
  },
  {
   "cell_type": "code",
   "execution_count": null,
   "metadata": {},
   "outputs": [
    {
     "name": "stdout",
     "output_type": "stream",
     "text": [
      "*** L = 30 fb-1 : running 100 toy experiments...\n",
      "*** L = 50 fb-1 : running 100 toy experiments...\n",
      "*** L = 70 fb-1 : running 100 toy experiments...\n",
      "*** L = 90 fb-1 : running 100 toy experiments...\n",
      "*** L = 110 fb-1 : running 100 toy experiments...\n"
     ]
    }
   ],
   "source": [
    "for j in range(nL): # loop on luminosity values\n",
    "    \n",
    "    # increasing luminosity\n",
    "    L = L0+dL*j\n",
    "    print (\"*** L = \" + str(int(L)) + \" fb-1 : running \" + str(ntoys) + \" toy experiments...\")\n",
    "\n",
    "    signif = 0.\n",
    "    np = 0\n",
    "\n",
    "    for i in range(ntoys): # loop on toys\n",
    "    \n",
    "        mgg = DataHistogram(m_H,s_m,L)\n",
    "\n",
    "        massFit.SetParameter(0,L*1000.) \n",
    "        massFit.SetParameter(1,0.023)  \n",
    "        massFit.SetParameter(2,L*10.)   \n",
    "        massFit.SetParameter(3,m_H)\n",
    "        massFit.FixParameter(4,s_m) \n",
    "        \n",
    "        #massFit.SetParLimits(3,m_H-10.,m_H+10.)\n",
    "        massFit.SetParLimits(0,0.,L*10000000.);\n",
    "        \n",
    "        mgg.Fit(massFit,\"Q\")\n",
    "    \n",
    "        # compute significance for this toy experiment, sum to average over all toys\n",
    "        norm  = massFit.GetParameter(2); # gaussian normalization\n",
    "        snorm = massFit.GetParError(2);  # error on gaussian normalization      \n",
    "        signif += norm/snorm # poor-man significance :-)\n",
    "        np = np + 1\n",
    "\n",
    "    # average significance over toy experiments\n",
    "    signif/=np;\n",
    "    sig_vs_L.SetPoint(j,L,signif);"
   ]
  },
  {
   "cell_type": "code",
   "execution_count": null,
   "metadata": {},
   "outputs": [],
   "source": [
    "sigplot_vs_L = ROOT.TCanvas(\"sigplot_vs_L\",\"\",800,400)\n",
    "\n",
    "sig_vs_L.SetMarkerStyle(20);\n",
    "sig_vs_L.SetMarkerColor(2);\n",
    "sig_vs_L.GetXaxis().SetTitle(\"L [fb^{-1}]\");\n",
    "sig_vs_L.GetYaxis().SetTitle(\"Significance\");\n",
    "sig_vs_L.Draw(\"APX\");\n",
    "\n",
    "sigplot_vs_L.Draw()"
   ]
  },
  {
   "cell_type": "markdown",
   "metadata": {},
   "source": [
    "# 4. Significance vs. Detector resolution\n",
    "\n",
    "Let's now repeat the previous exercise by fixing the amount of data to 100 fb$^{-1}$, and testing several values for the detector invariant mass resolution."
   ]
  },
  {
   "cell_type": "code",
   "execution_count": null,
   "metadata": {},
   "outputs": [],
   "source": [
    "ntoys  = 100  # number of toy experiments\n",
    "m_H    = 125. # GeV\n",
    "L      = 100  # GeV\n",
    "\n",
    "nS = 5\n",
    "S0 = 1.\n",
    "dS = 0.2\n",
    "\n",
    "sig_vs_S = ROOT.TGraph(nL)\n",
    "sig_vs_S.SetTitle(\"\")"
   ]
  },
  {
   "cell_type": "code",
   "execution_count": null,
   "metadata": {},
   "outputs": [],
   "source": [
    "for j in range(nS): # loop on luminosity values\n",
    "    \n",
    "    # increasing luminosity\n",
    "    s_m = S0+dS*j\n",
    "    print (\"*** sigma_yy = \" + str(s_m) + \" GeV : running \" + str(ntoys) + \" toy experiments...\")\n",
    "\n",
    "    signif = 0.\n",
    "    np = 0\n",
    "\n",
    "    for i in range(ntoys): # loop on toys\n",
    "    \n",
    "        mgg = DataHistogram(m_H,s_m,L)\n",
    "\n",
    "        massFit.SetParameter(0,L*1000.) \n",
    "        massFit.SetParameter(1,0.023)  \n",
    "        massFit.SetParameter(2,L*10.)   \n",
    "        massFit.SetParameter(3,m_H)\n",
    "        massFit.FixParameter(4,s_m) \n",
    "        \n",
    "        #massFit.SetParLimits(3,m_H-10.,m_H+10.)\n",
    "        massFit.SetParLimits(0,0.,L*10000000.);\n",
    "        \n",
    "        mgg.Fit(massFit,\"Q\")\n",
    "    \n",
    "        # compute significance for this toy experiment, sum to average over all toys\n",
    "        norm  = massFit.GetParameter(2); # gaussian normalization\n",
    "        snorm = massFit.GetParError(2);  # error on gaussian normalization      \n",
    "        signif += norm/snorm # poor-man significance :-)\n",
    "        np = np + 1\n",
    "\n",
    "    # average significance over toy experiments\n",
    "    signif/=np;\n",
    "    sig_vs_S.SetPoint(j,s_m,signif);"
   ]
  },
  {
   "cell_type": "code",
   "execution_count": null,
   "metadata": {},
   "outputs": [],
   "source": [
    "sigplot_vs_S = ROOT.TCanvas(\"sigplot_vs_S\",\"\",800,400)\n",
    "\n",
    "sig_vs_S.SetMarkerStyle(20);\n",
    "sig_vs_S.SetMarkerColor(2);\n",
    "sig_vs_S.GetXaxis().SetTitle(\"#sigma_{#gamma#gamma} [GeV]\");\n",
    "sig_vs_S.GetYaxis().SetTitle(\"Significance\");\n",
    "sig_vs_S.Draw(\"APX\");\n",
    "\n",
    "sigplot_vs_L.Draw()"
   ]
  },
  {
   "cell_type": "code",
   "execution_count": null,
   "metadata": {},
   "outputs": [],
   "source": []
  }
 ],
 "metadata": {
  "kernelspec": {
   "display_name": "Python 3",
   "language": "python",
   "name": "python3"
  },
  "language_info": {
   "codemirror_mode": {
    "name": "ipython",
    "version": 3
   },
   "file_extension": ".py",
   "mimetype": "text/x-python",
   "name": "python",
   "nbconvert_exporter": "python",
   "pygments_lexer": "ipython3",
   "version": "3.7.2"
  }
 },
 "nbformat": 4,
 "nbformat_minor": 2
}
